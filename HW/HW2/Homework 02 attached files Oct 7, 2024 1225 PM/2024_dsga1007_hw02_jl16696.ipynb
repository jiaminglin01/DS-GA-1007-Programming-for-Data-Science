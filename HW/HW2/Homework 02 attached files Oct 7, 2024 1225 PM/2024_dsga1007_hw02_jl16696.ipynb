{
 "cells": [
  {
   "cell_type": "markdown",
   "metadata": {
    "id": "65pziwiP0us6"
   },
   "source": [
    "### CDS NYU\n",
    "### DS-GA 1007 | Programming for Data Science\n",
    "\n",
    "---\n",
    "\n",
    "# HW 02\n",
    "### Due Date: October 9, 2024, 7PM \n"
   ]
  },
  {
   "cell_type": "markdown",
   "metadata": {
    "id": "6bFn1r8M0utA"
   },
   "source": [
    "Firstname: Jiaming\n",
    "\n",
    "Lastname: Lin\n",
    "\n",
    "E-mail: jl16696@nyu.edu\n",
    "\n",
    "\n",
    "--- \n",
    "\n",
    "Enter your solutions below,  and submit this notebook"
   ]
  },
  {
   "cell_type": "markdown",
   "metadata": {
    "id": "06NcjKxz0utB"
   },
   "source": [
    "### Problem 01 (10 points):\n",
    "\n",
    "1. 1 (5 points) Write a function that iteratively calculates the square $x^2$ of a positive integer number $x$. Print its worst-case complexity using the big-O notation. Estimate the average running time of this function when applied to $x=100$\n",
    "\n",
    "\n",
    "1. 2 (5 points) Write a function that recursively calculates the square $x^2$ of a positive integer number $x$. Print its worst-case complexity using the big-O notation. Estimate the average running time of this function when applied to $x=100$\n"
   ]
  },
  {
   "cell_type": "code",
   "execution_count": 1,
   "metadata": {},
   "outputs": [
    {
     "name": "stdout",
     "output_type": "stream",
     "text": [
      "The worst-case complexity for this iterative function is O(x^2)\n",
      "598 µs ± 4.13 µs per loop (mean ± std. dev. of 7 runs, 1,000 loops each)\n",
      "The worst-case complexity for this iterative function is O(x)\n",
      "17.3 µs ± 140 ns per loop (mean ± std. dev. of 7 runs, 100,000 loops each)\n"
     ]
    }
   ],
   "source": [
    "# 1.1\n",
    "def square_iterative(x):\n",
    "    x2 = 0\n",
    "    for i in range(x):\n",
    "        for j in range(x):\n",
    "            x2 += 1\n",
    "    return x2\n",
    "\n",
    "print(\"The worst-case complexity for this iterative function is O(x^2)\")\n",
    "import time\n",
    "%timeit square_iterative(100)\n",
    "\n",
    "# 1.2\n",
    "def square_recursive(x):\n",
    "    if x == 0:              \n",
    "        return x\n",
    "    else:\n",
    "        x2 = square_recursive(x-1)+2*x-1 \n",
    "        return(x2)\n",
    "\n",
    "print(\"The worst-case complexity for this iterative function is O(x)\")\n",
    "%timeit square_recursive(100)"
   ]
  },
  {
   "cell_type": "markdown",
   "metadata": {
    "id": "f_WEUxHe0utC"
   },
   "source": [
    "### Problem 02 (40 points):\n",
    "\n",
    "2.1 (5 points) Write a function that performs a selection sort (Function from the lecture is accepted)\n",
    "\n",
    "2.2 (5 points) Write a function that performs a bubble sort (Function from the lecture is accepted)\n",
    "\n",
    "2.3 (5 points) Write a function that performs a merge sort (Function from the lecture is accepted)\n",
    "\n",
    "2.4 (10 points) The file `ComedyMovies.json` contains a dictionary with the top 100 comedy movies of the 21st centruy (source: IMDb). The keys are the movie names and the values are the durations (in minutes) of the movies. Read the file and load it into a dictionary name `movies`. Create a list l containing the durations of the 100 movies. Sort this list using each of the functions from 2.1, 2.2, and 2.3 \n",
    "\n",
    "2.5 (10 points) Estimate the average running time of the functions from 2.1, 2.2, and 2.3 when applied to the list l\n",
    "\n",
    "2.6 (5 points) The following snippet: `sorted(movies.items(), key=lambda x: x[1])` leverages the list built-in method `sorted` to sort the keys (names of movies) of the dictionary `movies` based on the its values (durations of movies). Estimate the average running time of this built-in method when applied to `movies`\n"
   ]
  },
  {
   "cell_type": "code",
   "execution_count": 2,
   "metadata": {
    "id": "MjpDQ90j0utD"
   },
   "outputs": [],
   "source": [
    "# To open the json file and load it into a dictionary data structure:\n",
    "import json\n",
    "movies = json.load(open('ComedyMovies.json'))"
   ]
  },
  {
   "cell_type": "code",
   "execution_count": 3,
   "metadata": {},
   "outputs": [],
   "source": [
    "# 2.1\n",
    "def selection_sort(L):\n",
    "    for i in range(len(L)):\n",
    "        min_i = i\n",
    "        for j in range(i+1, len(L)):\n",
    "            if L[j] < L[min_i]:\n",
    "                min_i = j\n",
    "        L[i], L[min_i] = L[min_i], L[i]\n",
    "    return L\n",
    "        \n",
    "# 2.2\n",
    "def bubble_sort(L):\n",
    "    swap = True\n",
    "    while swap:\n",
    "        swap = False\n",
    "        for i in range(len(L)-1): # Pass through pairs\n",
    "            if L[i] > L[i+1]: # Compare elements\n",
    "                swap = True\n",
    "                L[i], L[i+1] = L[i+1], L[i]\n",
    "    return L\n",
    "\n",
    "# 2.3\n",
    "def merge_sort(L):\n",
    "    if len(L) < 2:\n",
    "        return L[:]  \n",
    "    else:\n",
    "        middle = len(L) // 2 \n",
    "        left = merge_sort(L[:middle]) \n",
    "        right = merge_sort(L[middle:])  \n",
    "        return merge(left, right)\n",
    "\n",
    "def merge(left, right):\n",
    "    result = []\n",
    "    i, j = 0, 0\n",
    "\n",
    "    while i < len(left) and j < len(right):\n",
    "        if left[i] < right[j]:\n",
    "            result.append(left[i])\n",
    "            i += 1\n",
    "        else:\n",
    "            result.append(right[j])\n",
    "            j += 1\n",
    "\n",
    "    result.extend(left[i:])\n",
    "    result.extend(right[j:])\n",
    "    return result"
   ]
  },
  {
   "cell_type": "code",
   "execution_count": 4,
   "metadata": {},
   "outputs": [
    {
     "name": "stdout",
     "output_type": "stream",
     "text": [
      "[100, 99, 117, 121, 109, 103, 116, 99, 102, 108, 110, 98, 119, 122, 107, 94, 113, 88, 113, 123, 117, 92, 88, 85, 88, 89, 90, 109, 106, 107, 100, 115, 84, 94, 95, 112, 91, 120, 85, 99, 112, 115, 125, 88, 109, 116, 96, 108, 112, 96, 129, 93, 129, 118, 104, 90, 102, 101, 92, 96, 93, 110, 113, 107, 101, 113, 81, 86, 103, 86, 103, 108, 119, 86, 99, 97, 118, 110, 83, 100, 98, 103, 107, 83, 105, 94, 85, 98, 112, 104, 101, 104, 108, 93, 111, 117, 111, 98, 92, 105]\n",
      "[81, 83, 83, 84, 85, 85, 85, 86, 86, 86, 88, 88, 88, 88, 89, 90, 90, 91, 92, 92, 92, 93, 93, 93, 94, 94, 94, 95, 96, 96, 96, 97, 98, 98, 98, 98, 99, 99, 99, 99, 100, 100, 100, 101, 101, 101, 102, 102, 103, 103, 103, 103, 104, 104, 104, 105, 105, 106, 107, 107, 107, 107, 108, 108, 108, 108, 109, 109, 109, 110, 110, 110, 111, 111, 112, 112, 112, 112, 113, 113, 113, 113, 115, 115, 116, 116, 117, 117, 117, 118, 118, 119, 119, 120, 121, 122, 123, 125, 129, 129]\n",
      "[81, 83, 83, 84, 85, 85, 85, 86, 86, 86, 88, 88, 88, 88, 89, 90, 90, 91, 92, 92, 92, 93, 93, 93, 94, 94, 94, 95, 96, 96, 96, 97, 98, 98, 98, 98, 99, 99, 99, 99, 100, 100, 100, 101, 101, 101, 102, 102, 103, 103, 103, 103, 104, 104, 104, 105, 105, 106, 107, 107, 107, 107, 108, 108, 108, 108, 109, 109, 109, 110, 110, 110, 111, 111, 112, 112, 112, 112, 113, 113, 113, 113, 115, 115, 116, 116, 117, 117, 117, 118, 118, 119, 119, 120, 121, 122, 123, 125, 129, 129]\n",
      "[81, 83, 83, 84, 85, 85, 85, 86, 86, 86, 88, 88, 88, 88, 89, 90, 90, 91, 92, 92, 92, 93, 93, 93, 94, 94, 94, 95, 96, 96, 96, 97, 98, 98, 98, 98, 99, 99, 99, 99, 100, 100, 100, 101, 101, 101, 102, 102, 103, 103, 103, 103, 104, 104, 104, 105, 105, 106, 107, 107, 107, 107, 108, 108, 108, 108, 109, 109, 109, 110, 110, 110, 111, 111, 112, 112, 112, 112, 113, 113, 113, 113, 115, 115, 116, 116, 117, 117, 117, 118, 118, 119, 119, 120, 121, 122, 123, 125, 129, 129]\n"
     ]
    }
   ],
   "source": [
    "durations = list(movies.values())\n",
    "print(durations)\n",
    "\n",
    "# 2.4\n",
    "print(selection_sort(durations.copy()))\n",
    "print(bubble_sort(durations.copy()))\n",
    "print(merge_sort(durations.copy()))"
   ]
  },
  {
   "cell_type": "code",
   "execution_count": 5,
   "metadata": {},
   "outputs": [
    {
     "name": "stdout",
     "output_type": "stream",
     "text": [
      "372 µs ± 2.88 µs per loop (mean ± std. dev. of 7 runs, 1,000 loops each)\n",
      "1.02 ms ± 11.7 µs per loop (mean ± std. dev. of 7 runs, 1,000 loops each)\n",
      "270 µs ± 1.89 µs per loop (mean ± std. dev. of 7 runs, 1,000 loops each)\n"
     ]
    }
   ],
   "source": [
    "# 2.5\n",
    "%timeit selection_sort(durations.copy())\n",
    "%timeit bubble_sort(durations.copy())\n",
    "%timeit merge_sort(durations.copy())"
   ]
  },
  {
   "cell_type": "code",
   "execution_count": 6,
   "metadata": {},
   "outputs": [
    {
     "name": "stdout",
     "output_type": "stream",
     "text": [
      "19.5 µs ± 245 ns per loop (mean ± std. dev. of 7 runs, 100,000 loops each)\n"
     ]
    }
   ],
   "source": [
    "# 2.6\n",
    "%timeit sorted(movies.copy().items(), key=lambda x: x[1])"
   ]
  },
  {
   "cell_type": "markdown",
   "metadata": {
    "id": "7w6q-JUs0utF"
   },
   "source": [
    "### Problem 03 (20 points)"
   ]
  },
  {
   "cell_type": "markdown",
   "metadata": {
    "id": "26CIeVWJ0utG"
   },
   "source": [
    "Using Linux commands (Lecture 4, Lab 5), write commands to:\n",
    "\n",
    "3.1 (5 points) Type a single command which can replace all occurences of the word ```ATOM``` by the word ```OBJECT``` in the file ```ascorbic-acid.pdb```\n",
    "\n",
    "3.2 (5 points) Loop over an index i ranging from 1 to 5, and at every iteration of the loop create a folder called ```f$i``` (that is, create five folders called f1, f2, f3, f4 and f5) \n",
    "\n",
    "3.3 (10 point) Copy all files in current directory that end with ```.pdb``` to the folder f2, then go to the directory f2 and display its content.  Finally, move the file ```ascorbic-acid.pdb``` one folder up, go back one folder up, and delete all folders that start with a ```f```\n"
   ]
  },
  {
   "cell_type": "code",
   "execution_count": 7,
   "metadata": {},
   "outputs": [
    {
     "name": "stdout",
     "output_type": "stream",
     "text": [
      "COMPND      ASCORBIC ACID, VITAMIN C\n",
      "AUTHOR      DAVE WOODCOCK  96 05 24\n",
      "OBJECT      1  C           1       0.182   0.119  -0.645  1.00  0.00\n",
      "OBJECT      2  C           1       0.591  -1.187   0.091  1.00  0.00\n",
      "OBJECT      3  C           1       1.908  -1.150   0.401  1.00  0.00\n",
      "OBJECT      4  C           1       2.407   0.104   0.031  1.00  0.00\n",
      "OBJECT      5  O           1       1.453   0.978  -0.535  1.00  0.00\n",
      "OBJECT      6  O           1       3.677   0.478   0.175  1.00  0.00\n",
      "OBJECT      7  O           1       2.621  -2.174   1.011  1.00  0.00\n",
      "OBJECT      8  O           1      -0.324  -2.236   0.293  1.00  0.00\n",
      "OBJECT      9  H           1      -0.030  -0.160  -1.688  1.00  0.00\n",
      "OBJECT     10  C           1      -1.084   0.762   0.207  1.00  0.00\n",
      "OBJECT     11  H           1      -1.959   0.100   0.315  1.00  0.00\n",
      "OBJECT     12  O           1      -0.591   1.195   1.590  1.00  0.00\n",
      "OBJECT     13  C           1      -1.585   2.076  -0.581  1.00  0.00\n",
      "OBJECT     14  O           1      -2.771   2.432   0.067  1.00  0.00\n",
      "OBJECT     15  H           1       1.946  -2.997   1.192  1.00  0.00\n",
      "OBJECT     16  H           1      -0.747  -2.497  -0.666  1.00  0.00\n",
      "OBJECT     17  H           1       0.118   2.004   1.470  1.00  0.00\n",
      "OBJECT     18  H           1      -1.839   1.784  -1.606  1.00  0.00\n",
      "OBJECT     19  H           1      -0.831   2.856  -0.721  1.00  0.00\n",
      "OBJECT     20  H           1      -2.572   2.906   1.016  1.00  0.00\n",
      "TER      21              1\n",
      "END\n"
     ]
    }
   ],
   "source": [
    "# 3.1\n",
    "!sed -e 's/ATOM/OBJECT/g' ascorbic-acid.pdb"
   ]
  },
  {
   "cell_type": "code",
   "execution_count": 8,
   "metadata": {},
   "outputs": [
    {
     "name": "stdout",
     "output_type": "stream",
     "text": [
      "\n",
      "(base) C:\\Users\\ljiam\\OneDrive\\Desktop\\NYU\\FALL 24\\1007\\HW\\HW2\\Homework 02 attached files Oct 7, 2024 1225 PM>mkdir f1 \n",
      "\n",
      "(base) C:\\Users\\ljiam\\OneDrive\\Desktop\\NYU\\FALL 24\\1007\\HW\\HW2\\Homework 02 attached files Oct 7, 2024 1225 PM>mkdir f2 \n",
      "\n",
      "(base) C:\\Users\\ljiam\\OneDrive\\Desktop\\NYU\\FALL 24\\1007\\HW\\HW2\\Homework 02 attached files Oct 7, 2024 1225 PM>mkdir f3 \n",
      "\n",
      "(base) C:\\Users\\ljiam\\OneDrive\\Desktop\\NYU\\FALL 24\\1007\\HW\\HW2\\Homework 02 attached files Oct 7, 2024 1225 PM>mkdir f4 \n",
      "\n",
      "(base) C:\\Users\\ljiam\\OneDrive\\Desktop\\NYU\\FALL 24\\1007\\HW\\HW2\\Homework 02 attached files Oct 7, 2024 1225 PM>mkdir f5 \n"
     ]
    }
   ],
   "source": [
    "# 3.2\n",
    "!for /l %i in (1,1,5) do mkdir f%i"
   ]
  },
  {
   "cell_type": "code",
   "execution_count": 9,
   "metadata": {},
   "outputs": [
    {
     "name": "stdout",
     "output_type": "stream",
     "text": [
      "ascorbic-acid.pdb\n",
      "        1 file(s) copied.\n",
      " Volume in drive C is OS\n",
      " Volume Serial Number is 44E0-38CB\n",
      "\n",
      " Directory of C:\\Users\\ljiam\\OneDrive\\Desktop\\NYU\\FALL 24\\1007\\HW\\HW2\\Homework 02 attached files Oct 7, 2024 1225 PM\\f2\n",
      "\n",
      "10/08/2024  04:54 PM    <DIR>          .\n",
      "10/08/2024  04:54 PM    <DIR>          ..\n",
      "10/07/2024  12:26 PM             1,444 ascorbic-acid.pdb\n",
      "               1 File(s)          1,444 bytes\n",
      "               2 Dir(s)  42,523,344,896 bytes free\n",
      "        1 file(s) moved.\n",
      "\n",
      "(base) C:\\Users\\ljiam\\OneDrive\\Desktop\\NYU\\FALL 24\\1007\\HW\\HW2\\Homework 02 attached files Oct 7, 2024 1225 PM>rmdir /s /q \"f1\" \n",
      "\n",
      "(base) C:\\Users\\ljiam\\OneDrive\\Desktop\\NYU\\FALL 24\\1007\\HW\\HW2\\Homework 02 attached files Oct 7, 2024 1225 PM>rmdir /s /q \"f2\" \n",
      "\n",
      "(base) C:\\Users\\ljiam\\OneDrive\\Desktop\\NYU\\FALL 24\\1007\\HW\\HW2\\Homework 02 attached files Oct 7, 2024 1225 PM>rmdir /s /q \"f3\" \n",
      "\n",
      "(base) C:\\Users\\ljiam\\OneDrive\\Desktop\\NYU\\FALL 24\\1007\\HW\\HW2\\Homework 02 attached files Oct 7, 2024 1225 PM>rmdir /s /q \"f4\" \n",
      "\n",
      "(base) C:\\Users\\ljiam\\OneDrive\\Desktop\\NYU\\FALL 24\\1007\\HW\\HW2\\Homework 02 attached files Oct 7, 2024 1225 PM>rmdir /s /q \"f5\" \n"
     ]
    }
   ],
   "source": [
    "# 3.3\n",
    "!copy *.pdb f2\\ && cd f2 && dir && move ascorbic-acid.pdb .. && cd .. && for /d %i in (f*) do rmdir /s /q \"%i\""
   ]
  },
  {
   "cell_type": "markdown",
   "metadata": {
    "id": "9xZRFjKL0utI"
   },
   "source": [
    "\n",
    "### Problem 04 (30 points)\n"
   ]
  },
  {
   "cell_type": "markdown",
   "metadata": {
    "id": "0Z6H54jM0utJ"
   },
   "source": [
    "The file `nba2020.csv` contains the schedules and information of the NBA games for 2020. Using only Linux commands (Lecture 4, Lab 5), write programs which will display:\n",
    "   \n",
    "4.1 (5 point) The count of all lines having the string ```'New York Knicks'``` in it\n",
    "   \n",
    "4.2 (10 points) A unique list of NBA teams provided in the file, sorted in alphabetic order; (you can use either the column \"Visitor\" or the column \"Home\"), see hint provided below\n",
    "\n",
    "4.3 (5 points) The number of those NBA teams\n",
    "\n",
    "4.4 (10 points) A unique list of the `start` time provided in the file when the NBA matches were played, sorted in numerical order\n"
   ]
  },
  {
   "cell_type": "markdown",
   "metadata": {
    "id": "S4OwNh5p0utJ"
   },
   "source": [
    "**Hint:** For problems 4.2, 4.3 and 4.4. use a series of piped commands, including the command ```cut``` to select the relevant column, as seen in class and lab \n",
    "  "
   ]
  },
  {
   "cell_type": "code",
   "execution_count": 10,
   "metadata": {},
   "outputs": [
    {
     "name": "stdout",
     "output_type": "stream",
     "text": [
      "5\n"
     ]
    }
   ],
   "source": [
    "# 4.1\n",
    "!grep 'New York Knicks' nba2020.csv | wc -l"
   ]
  },
  {
   "cell_type": "code",
   "execution_count": 11,
   "metadata": {},
   "outputs": [
    {
     "name": "stdout",
     "output_type": "stream",
     "text": [
      "Atlanta Hawks\n",
      "Boston Celtics\n",
      "Brooklyn Nets\n",
      "Charlotte Hornets\n",
      "Chicago Bulls\n",
      "Cleveland Cavaliers\n",
      "Dallas Mavericks\n",
      "Denver Nuggets\n",
      "Detroit Pistons\n",
      "Golden State Warriors\n",
      "Houston Rockets\n",
      "Indiana Pacers\n",
      "Los Angeles Clippers\n",
      "Los Angeles Lakers\n",
      "Memphis Grizzlies\n",
      "Miami Heat\n",
      "Milwaukee Bucks\n",
      "Minnesota Timberwolves\n",
      "New Orleans Pelicans\n",
      "New York Knicks\n",
      "Oklahoma City Thunder\n",
      "Orlando Magic\n",
      "Philadelphia 76ers\n",
      "Phoenix Suns\n",
      "Portland Trail Blazers\n",
      "Sacramento Kings\n",
      "San Antonio Spurs\n",
      "Toronto Raptors\n",
      "Utah Jazz\n",
      "Washington Wizards\n"
     ]
    }
   ],
   "source": [
    "# 4.2\n",
    "!tail -n +2 nba2020.csv | cut -d',' -f3 | sort | uniq "
   ]
  },
  {
   "cell_type": "code",
   "execution_count": 12,
   "metadata": {},
   "outputs": [
    {
     "name": "stdout",
     "output_type": "stream",
     "text": [
      "30\n"
     ]
    }
   ],
   "source": [
    "# 4.3\n",
    "!tail -n +2 nba2020.csv | cut -d',' -f3 | sort | uniq | wc -l"
   ]
  },
  {
   "cell_type": "code",
   "execution_count": 13,
   "metadata": {},
   "outputs": [
    {
     "name": "stdout",
     "output_type": "stream",
     "text": [
      "\n",
      "3:30p\n",
      "5:00p\n",
      "6:00p\n",
      "7:00p\n",
      "7:30p\n",
      "8:00p\n",
      "8:30p\n",
      "9:00p\n",
      "9:30p\n",
      "10:00p\n",
      "10:30p\n"
     ]
    }
   ],
   "source": [
    "# 4.4\n",
    "!tail -n +2 nba2020.csv | cut -d',' -f2 | sort -n | uniq"
   ]
  }
 ],
 "metadata": {
  "colab": {
   "collapsed_sections": [],
   "provenance": []
  },
  "kernelspec": {
   "display_name": "Python 3 (ipykernel)",
   "language": "python",
   "name": "python3"
  },
  "language_info": {
   "codemirror_mode": {
    "name": "ipython",
    "version": 3
   },
   "file_extension": ".py",
   "mimetype": "text/x-python",
   "name": "python",
   "nbconvert_exporter": "python",
   "pygments_lexer": "ipython3",
   "version": "3.11.4"
  }
 },
 "nbformat": 4,
 "nbformat_minor": 1
}
